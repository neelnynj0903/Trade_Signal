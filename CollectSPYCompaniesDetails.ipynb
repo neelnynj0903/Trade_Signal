{
 "cells": [
  {
   "cell_type": "markdown",
   "id": "a6d9bced-44ff-4a90-86c7-22765edf4bf0",
   "metadata": {},
   "source": [
    "## S&P 500 Companies Database Insert Script\n",
    "\n",
    "### Description:\n",
    "This Python script connects to a PostgreSQL database and inserts S&P 500 company data from a DataFrame into a pre-existing table. The script includes error handling and uses a conflict resolution strategy to avoid duplicate entries based on the ticker symbol.\n",
    "\n",
    "### Database Connection Details:\n",
    "- **Host**: npatelnynj.ddns.net\n",
    "- **Port**: 5432\n",
    "- **Database**: postgres\n",
    "- **Username**: postgres\n",
    "- **Password**: Aarav12#$\n",
    "\n",
    "### Table Definition:\n",
    "```sql\n",
    "CREATE TABLE companies (\n",
    "    company_id SERIAL PRIMARY KEY\n",
    "    ticker VARCHAR(20) UNIQUE NOT NULL,\n",
    "    company_name VARCHAR(255) NOT NULL,\n",
    "    sector VARCHAR(100),\n",
    "    industry VARCHAR(100),\n",
    "    headquarters VARCHAR(255),    \n",
    "    added_date DATE NOT NULL\n",
    ");"
   ]
  },
  {
   "cell_type": "code",
   "execution_count": null,
   "id": "cf2cbab5-38f1-4b42-8965-0ae91d3f9351",
   "metadata": {},
   "outputs": [],
   "source": []
  },
  {
   "cell_type": "code",
   "execution_count": null,
   "id": "f002ef2d-cd3f-49b1-be9c-4bcb0e0887e4",
   "metadata": {},
   "outputs": [],
   "source": [
    "import pandas as pd\n",
    "\n",
    "# Wikipedia URL for S&P 500 companies\n",
    "URL = \"https://en.wikipedia.org/wiki/List_of_S%26P_500_companies\"\n",
    "\n",
    "# Function to fetch S&P 500 company data from Wikipedia\n",
    "def fetch_sp500_companies():\n",
    "    tables = pd.read_html(URL)\n",
    "    df = tables[0]  # Extract first table\n",
    "\n",
    "    # Print available columns to verify\n",
    "    print(\"Available Columns:\", df.columns.tolist())\n",
    "\n",
    "    # Adjusting for possible column name changes\n",
    "    column_map = {\n",
    "        'Symbol': 'ticker',\n",
    "        'Security': 'company_name',\n",
    "        'GICS Sector': 'sector',\n",
    "        'GICS Sub-Industry': 'industry',\n",
    "        'Date added': 'added_date',  # Fixed: 'Date first added' may have changed to 'Date added'\n",
    "        'Headquarters Location': 'headquarters'\n",
    "    }\n",
    "\n",
    "    # Keep only available columns\n",
    "    available_columns = {col: new_col for col, new_col in column_map.items() if col in df.columns}\n",
    "    df = df[list(available_columns.keys())]\n",
    "    df.rename(columns=available_columns, inplace=True)\n",
    "\n",
    "    # Convert \"added_date\" to DATE format\n",
    "    if 'added_date' in df.columns:\n",
    "        df['added_date'] = pd.to_datetime(df['added_date'], errors='coerce').dt.date\n",
    "\n",
    "    # Print the first few rows\n",
    "    print(df.head())\n",
    "\n",
    "    return df\n",
    "\n",
    "# Fetch and print the data\n",
    "sp500_df = fetch_sp500_companies()"
   ]
  },
  {
   "cell_type": "code",
   "execution_count": 4,
   "id": "93459831-fd15-4687-9b30-9b8d0555aed3",
   "metadata": {},
   "outputs": [
    {
     "name": "stdout",
     "output_type": "stream",
     "text": [
      "✅ S&P 500 company data inserted successfully!\n"
     ]
    }
   ],
   "source": [
    "import psycopg2\n",
    "\n",
    "# Database connection parameters\n",
    "DB_PARAMS = {\n",
    "    \"dbname\": \"postgres\",\n",
    "    \"user\": \"postgres\",\n",
    "    \"password\": \"Aarav12#$\",\n",
    "    \"host\": \"npatelnynj.ddns.net\",\n",
    "    \"port\": \"5432\"\n",
    "}\n",
    "\n",
    "# Function to insert data into PostgreSQL\n",
    "def insert_sp500_data(df):\n",
    "    try:\n",
    "        conn = psycopg2.connect(**DB_PARAMS)\n",
    "        cur = conn.cursor()\n",
    "\n",
    "        # Insert query\n",
    "        INSERT_QUERY = \"\"\"\n",
    "        INSERT INTO companies (ticker, company_name, sector, industry, headquarters,added_date)\n",
    "        VALUES (%s, %s, %s, %s, %s, %s)\n",
    "        ON CONFLICT (ticker) DO NOTHING;\n",
    "        \"\"\"\n",
    "\n",
    "        # Insert each row into PostgreSQL using .itertuples() for efficiency\n",
    "        for row in df.itertuples(index=False):\n",
    "            cur.execute(INSERT_QUERY, (row.ticker, row.company_name, row.sector, row.industry, row.headquarters, row.added_date))\n",
    "\n",
    "        # Commit and close connection\n",
    "        conn.commit()\n",
    "        print(\"✅ S&P 500 company data inserted successfully!\")\n",
    "\n",
    "    except Exception as e:\n",
    "        print(\"❌ Database error:\", e)\n",
    "\n",
    "    finally:\n",
    "        cur.close()\n",
    "        conn.close()\n",
    "\n",
    "# Insert the fetched data into your existing table\n",
    "insert_sp500_data(sp500_df)"
   ]
  },
  {
   "cell_type": "code",
   "execution_count": null,
   "id": "62604824-1bc3-4485-a6e0-56dbf378c10b",
   "metadata": {},
   "outputs": [],
   "source": []
  },
  {
   "cell_type": "code",
   "execution_count": null,
   "id": "4ba15825-c09d-48b2-b593-bc8d0e2f8634",
   "metadata": {},
   "outputs": [],
   "source": []
  },
  {
   "cell_type": "code",
   "execution_count": null,
   "id": "29381aba-3c42-4c22-92aa-9f64812b3542",
   "metadata": {},
   "outputs": [],
   "source": []
  },
  {
   "cell_type": "code",
   "execution_count": null,
   "id": "6d69645a-e5ae-49c2-a9bc-bd574a6f1f0b",
   "metadata": {},
   "outputs": [],
   "source": []
  },
  {
   "cell_type": "code",
   "execution_count": null,
   "id": "6e3c03c3-fc3a-4245-a5fa-0dd8c9dd44aa",
   "metadata": {},
   "outputs": [],
   "source": []
  }
 ],
 "metadata": {
  "kernelspec": {
   "display_name": "Python 3 (ipykernel)",
   "language": "python",
   "name": "python3"
  },
  "language_info": {
   "codemirror_mode": {
    "name": "ipython",
    "version": 3
   },
   "file_extension": ".py",
   "mimetype": "text/x-python",
   "name": "python",
   "nbconvert_exporter": "python",
   "pygments_lexer": "ipython3",
   "version": "3.13.2"
  }
 },
 "nbformat": 4,
 "nbformat_minor": 5
}
